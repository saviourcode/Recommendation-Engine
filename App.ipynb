{
 "cells": [
  {
   "cell_type": "code",
   "execution_count": 7,
   "metadata": {},
   "outputs": [],
   "source": [
    "import numpy as np\n",
    "import pandas as pd\n",
    "from sklearn.metrics.pairwise import linear_kernel\n",
    "import pickle\n",
    "from sklearn.impute import SimpleImputer"
   ]
  },
  {
   "cell_type": "code",
   "execution_count": 17,
   "metadata": {},
   "outputs": [],
   "source": [
    "# Reading dataframe\n",
    "df = pd.read_csv('netflix_titles.csv')\n",
    "\n",
    "# Replacing NaN values of columns Date added and Rating\n",
    "imputer = SimpleImputer(missing_values=np.nan, strategy='most_frequent')\n",
    "imputer.fit(df.iloc[:,6:9])\n",
    "df.iloc[:,6:9] = imputer.transform(df.iloc[:,6:9])\n",
    "\n",
    "# Removing Irrelevant Columns\n",
    "df.drop(['show_id', 'description', 'date_added', 'release_year', 'duration'], axis=1, inplace= True)\n",
    "\n",
    "# Flattening the dataset\n",
    "single_col = ['type', 'rating']\n",
    "multi_col = ['director', 'cast', 'country', 'listed_in']\n",
    "for i in multi_col:\n",
    "    df[i] = df[i].apply(lambda x: str(x).replace(' ','').split(','))\n",
    "\n",
    "# Converting title to lowercase\n",
    "df['title'] = df['title'].str.lower()\n",
    "\n",
    "# Creating binary Matrix\n",
    "single_col = ['type', 'rating']\n",
    "multi_col = ['director', 'cast', 'country', 'listed_in']\n",
    "\n",
    "binary_df = pd.DataFrame({'Index':df.index})\n",
    "binary_df = binary_df.set_index('Index')\n",
    "\n",
    "# Single Value\n",
    "for i in single_col:\n",
    "    for j in df[i].unique():\n",
    "        binary_df[j] = 0\n",
    "for i in range(len(df)):\n",
    "    row = df.index[i]\n",
    "    for j in single_col:\n",
    "        value = df[j][row]\n",
    "        binary_df.loc[row,value] = 1\n",
    "\n",
    "# Multiple Value\n",
    "for i in multi_col:\n",
    "    unique_list = []\n",
    "    for j in df[i]:\n",
    "        for x in j:\n",
    "            unique_list.append(x)\n",
    "    unique_set = set(unique_list)\n",
    "\n",
    "    for value in unique_set:\n",
    "        binary_df[value] = 0\n",
    "\n",
    "for i in range(len(df)):\n",
    "    row = df.index[i]\n",
    "    for j in multi_col:\n",
    "        for value in df[j][row]:\n",
    "            binary_df.loc[row,value] = 1\n",
    "\n",
    "# Compute the cosine similarity matrix\n",
    "cosine_sim = linear_kernel(binary_df, binary_df)\n",
    "\n",
    "# Construct a reverse map of indices and movie titles\n",
    "indices = pd.Series(df.index, index=df['title']).drop_duplicates()\n",
    "\n",
    "class Recommender:\n",
    "\n",
    "    def get_recommendation(self, title):\n",
    "        try:\n",
    "            title = title.lower()\n",
    "            row_index = indices[title]\n",
    "            sim_scores = list(enumerate(cosine_sim[row_index]))\n",
    "            sim_scores = sorted(sim_scores, key = lambda x: x[1], reverse = True)\n",
    "\n",
    "            sim_scores = sim_scores[1:11]\n",
    "\n",
    "            movie_indices = [i[0] for i in sim_scores]\n",
    "\n",
    "            return df.iloc[movie_indices]['title'].str.upper()\n",
    "        except:\n",
    "            return 'Movie/ Tv Show not found. Please try again.'"
   ]
  },
  {
   "cell_type": "code",
   "execution_count": 18,
   "metadata": {},
   "outputs": [],
   "source": [
    "movie = Recommender()"
   ]
  },
  {
   "cell_type": "code",
   "execution_count": 23,
   "metadata": {},
   "outputs": [],
   "source": [
    "# Serializing\n",
    "with open('movie.pkl', 'wb') as handle:\n",
    "    pickle.dump(movie, handle, pickle.HIGHEST_PROTOCOL)"
   ]
  }
 ],
 "metadata": {
  "kernelspec": {
   "display_name": "Python 3",
   "language": "python",
   "name": "python3"
  },
  "language_info": {
   "codemirror_mode": {
    "name": "ipython",
    "version": 3
   },
   "file_extension": ".py",
   "mimetype": "text/x-python",
   "name": "python",
   "nbconvert_exporter": "python",
   "pygments_lexer": "ipython3",
   "version": "3.8.5"
  }
 },
 "nbformat": 4,
 "nbformat_minor": 4
}
