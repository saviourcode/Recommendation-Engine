{
 "cells": [
  {
   "cell_type": "code",
   "execution_count": 1,
   "metadata": {},
   "outputs": [],
   "source": [
    "import numpy as np\n",
    "import pandas as pd\n",
    "from sklearn.metrics.pairwise import linear_kernel"
   ]
  },
  {
   "cell_type": "code",
   "execution_count": 39,
   "metadata": {},
   "outputs": [],
   "source": [
    "class Recommender:\n",
    "    \n",
    "    # Reading dataframe\n",
    "    df = pd.read_csv('NetflixFlattened.csv')\n",
    "    \n",
    "    # Creating binary matrix\n",
    "    def binary_matrix(self):\n",
    "        # Creating binary Matrix\n",
    "        single_col = ['type', 'rating']\n",
    "        multi_col = ['director', 'cast', 'country', 'listed_in']\n",
    "\n",
    "        binary_df = pd.DataFrame({'Index':df.index})\n",
    "        binary_df = binary_df.set_index('Index')\n",
    "\n",
    "        # Single Value\n",
    "        for i in single_col:\n",
    "            for j in df[i].unique():\n",
    "                binary_df[j] = 0\n",
    "        for i in range(len(df)):\n",
    "            row = df.index[i]\n",
    "            for j in single_col:\n",
    "                value = df[j][row]\n",
    "                binary_df.loc[row,value] = 1\n",
    "                \n",
    "        # Multiple Value\n",
    "        for i in multi_col:\n",
    "            unique_list = []\n",
    "            for j in df[i]:\n",
    "                for x in j:\n",
    "                    unique_list.append(x)\n",
    "            unique_set = set(unique_list)\n",
    "\n",
    "            for value in unique_set:\n",
    "                binary_df[value] = 0\n",
    "\n",
    "        for i in range(len(df)):\n",
    "            row = df.index[i]\n",
    "            for j in multi_col:\n",
    "                for value in df[j][row]:\n",
    "                    binary_df.loc[row,value] = 1\n",
    "        \n",
    "        return binary_df\n",
    "    \n",
    "    def cosine_sim_func(self):\n",
    "        \n",
    "        binary_df = self.binary_matrix()\n",
    "        \n",
    "        # Compute the cosine similarity matrix\n",
    "        cosine_sim = linear_kernel(binary_df, binary_df)\n",
    "\n",
    "        # Construct a reverse map of indices and movie titles\n",
    "        indices = pd.Series(df.index, index=df['title']).drop_duplicates()\n",
    "        \n",
    "        return [cosine_sim, indices]\n",
    "    \n",
    "    def get_recommendation(self, title):\n",
    "        \n",
    "        x = self.cosine_sim_func()\n",
    "        cosine_sim = x[0]\n",
    "        indices = x[1]\n",
    "        title = title.lower()\n",
    "        row_index = indices[title]\n",
    "        sim_scores = list(enumerate(cosine_sim[row_index]))\n",
    "        sim_scores = sorted(sim_scores, key = lambda x: x[1], reverse = True)\n",
    "\n",
    "        sim_scores = sim_scores[1:11]\n",
    "\n",
    "        movie_indices = [i[0] for i in sim_scores]\n",
    "\n",
    "        return df.iloc[movie_indices]['title'].str.upper()\n",
    "\n"
   ]
  },
  {
   "cell_type": "code",
   "execution_count": 40,
   "metadata": {},
   "outputs": [],
   "source": [
    "movie = Recommender()"
   ]
  },
  {
   "cell_type": "code",
   "execution_count": 42,
   "metadata": {},
   "outputs": [
    {
     "data": {
      "text/plain": [
       "707                                    BALA LOCA\n",
       "956                                 BLACK MIRROR\n",
       "1471                      COMEDIANS OF THE WORLD\n",
       "7542                     WET HOT AMERICAN SUMMER\n",
       "7543    WET HOT AMERICAN SUMMER: TEN YEARS LATER\n",
       "852                        BEST OF STAND-UP 2020\n",
       "1532                                 CREEPED OUT\n",
       "3784                        LOVE, DEATH & ROBOTS\n",
       "5688                             SOCIAL DISTANCE\n",
       "7365                                  UNTIL DAWN\n",
       "Name: title, dtype: object"
      ]
     },
     "execution_count": 42,
     "metadata": {},
     "output_type": "execute_result"
    }
   ],
   "source": [
    "movie.get_recommendation('dark')"
   ]
  },
  {
   "cell_type": "code",
   "execution_count": null,
   "metadata": {},
   "outputs": [],
   "source": []
  }
 ],
 "metadata": {
  "kernelspec": {
   "display_name": "Python 3",
   "language": "python",
   "name": "python3"
  },
  "language_info": {
   "codemirror_mode": {
    "name": "ipython",
    "version": 3
   },
   "file_extension": ".py",
   "mimetype": "text/x-python",
   "name": "python",
   "nbconvert_exporter": "python",
   "pygments_lexer": "ipython3",
   "version": "3.8.5"
  }
 },
 "nbformat": 4,
 "nbformat_minor": 4
}
